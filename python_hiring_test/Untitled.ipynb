{
 "cells": [
  {
   "cell_type": "code",
   "execution_count": 1,
   "metadata": {
    "collapsed": true
   },
   "outputs": [],
   "source": [
    "import pandas as pd"
   ]
  },
  {
   "cell_type": "code",
   "execution_count": 2,
   "metadata": {
    "collapsed": true
   },
   "outputs": [],
   "source": [
    "df = pd.read_csv(\"data/raw/pitchdata.csv\", sep=',')"
   ]
  },
  {
   "cell_type": "code",
   "execution_count": 11,
   "metadata": {},
   "outputs": [],
   "source": [
    "# For Pitcher team Id\n",
    "data_pitch = df.groupby(['PitcherTeamId','HitterSide'],as_index = False)['PA','AB','H','TB','BB','SF','HBP'].sum()\n",
    "data_pitch.columns = ['SubjectId' if x=='PitcherTeamId' else x for x in data_pitch.columns]\n",
    "data_pitch['Split'] = data_pitch.HitterSide.apply(lambda x: \"vs LHH\" if x == 'L' else 'vs RHH')\n",
    "data_pitch['Subject'] = 'PitcherTeamId'"
   ]
  },
  {
   "cell_type": "code",
   "execution_count": 12,
   "metadata": {
    "collapsed": true
   },
   "outputs": [],
   "source": [
    "# For Pitcher Id\n",
    "data_pitch_id = df.groupby(['PitcherId','HitterSide'],as_index = False)['PA','AB','H','TB','BB','SF','HBP'].sum()\n",
    "data_pitch_id.columns = ['SubjectId' if x=='PitcherId' else x for x in data_pitch_id.columns]\n",
    "data_pitch_id['Split'] = data_pitch_id.HitterSide.apply(lambda x: \"vs LHH\" if x == 'L' else 'vs RHH')\n",
    "data_pitch_id['Subject'] = 'PitcherId'"
   ]
  },
  {
   "cell_type": "code",
   "execution_count": 13,
   "metadata": {
    "collapsed": true
   },
   "outputs": [],
   "source": [
    "# For Hitter team Id\n",
    "data_hitter = df.groupby(['HitterTeamId','PitcherSide'],as_index = False)['PA','AB','H','TB','BB','SF','HBP'].sum()\n",
    "data_hitter.columns = ['SubjectId' if x=='HitterTeamId' else x for x in data_hitter.columns]\n",
    "data_hitter['Split'] = data_hitter.PitcherSide.apply(lambda x: \"vs LHP\" if x == 'L' else 'vs RHP')\n",
    "data_hitter['Subject'] = 'HitterTeamId'"
   ]
  },
  {
   "cell_type": "code",
   "execution_count": 14,
   "metadata": {
    "collapsed": true
   },
   "outputs": [],
   "source": [
    "# For Hitter team\n",
    "data_hitter_id = df.groupby(['HitterId','PitcherSide'],as_index = False)['PA','AB','H','TB','BB','SF','HBP'].sum()\n",
    "data_hitter_id.columns = ['SubjectId' if x=='HitterId' else x for x in data_hitter_id.columns]\n",
    "data_hitter_id['Split'] = data_hitter_id.PitcherSide.apply(lambda x: \"vs LHP\" if x == 'L' else 'vs RHP')\n",
    "data_hitter_id['Subject'] = 'HitterId'"
   ]
  },
  {
   "cell_type": "code",
   "execution_count": 20,
   "metadata": {
    "collapsed": true
   },
   "outputs": [],
   "source": [
    "# Combining Hitter and Picther team\n",
    "features = ['SubjectId','Split','Subject','PA','AB','H','TB','BB','SF','HBP']\n",
    "data_combined = pd.concat([data_pitch[features],data_hitter[features],data_pitch_id[features],data_hitter_id[features]],axis = 0)"
   ]
  },
  {
   "cell_type": "code",
   "execution_count": 22,
   "metadata": {},
   "outputs": [
    {
     "data": {
      "text/plain": [
       "(2310, 10)"
      ]
     },
     "execution_count": 22,
     "metadata": {},
     "output_type": "execute_result"
    }
   ],
   "source": [
    "data_combined.shape"
   ]
  },
  {
   "cell_type": "code",
   "execution_count": 23,
   "metadata": {
    "collapsed": true
   },
   "outputs": [],
   "source": [
    "data_final = data_combined[data_combined['PA']>=25]"
   ]
  },
  {
   "cell_type": "code",
   "execution_count": 27,
   "metadata": {},
   "outputs": [
    {
     "data": {
      "text/html": [
       "<div>\n",
       "<style>\n",
       "    .dataframe thead tr:only-child th {\n",
       "        text-align: right;\n",
       "    }\n",
       "\n",
       "    .dataframe thead th {\n",
       "        text-align: left;\n",
       "    }\n",
       "\n",
       "    .dataframe tbody tr th {\n",
       "        vertical-align: top;\n",
       "    }\n",
       "</style>\n",
       "<table border=\"1\" class=\"dataframe\">\n",
       "  <thead>\n",
       "    <tr style=\"text-align: right;\">\n",
       "      <th></th>\n",
       "      <th>SubjectId</th>\n",
       "      <th>Split</th>\n",
       "      <th>Subject</th>\n",
       "      <th>PA</th>\n",
       "      <th>AB</th>\n",
       "      <th>H</th>\n",
       "      <th>TB</th>\n",
       "      <th>BB</th>\n",
       "      <th>SF</th>\n",
       "      <th>HBP</th>\n",
       "      <th>AVG</th>\n",
       "      <th>OBP</th>\n",
       "      <th>SLG</th>\n",
       "      <th>OPS</th>\n",
       "    </tr>\n",
       "  </thead>\n",
       "  <tbody>\n",
       "    <tr>\n",
       "      <th>0</th>\n",
       "      <td>108</td>\n",
       "      <td>vs LHH</td>\n",
       "      <td>PitcherTeamId</td>\n",
       "      <td>175</td>\n",
       "      <td>161</td>\n",
       "      <td>36</td>\n",
       "      <td>58</td>\n",
       "      <td>12</td>\n",
       "      <td>1</td>\n",
       "      <td>1</td>\n",
       "      <td>0.224</td>\n",
       "      <td>0.280</td>\n",
       "      <td>0.360</td>\n",
       "      <td>0.640</td>\n",
       "    </tr>\n",
       "    <tr>\n",
       "      <th>1</th>\n",
       "      <td>108</td>\n",
       "      <td>vs RHH</td>\n",
       "      <td>PitcherTeamId</td>\n",
       "      <td>445</td>\n",
       "      <td>393</td>\n",
       "      <td>107</td>\n",
       "      <td>155</td>\n",
       "      <td>42</td>\n",
       "      <td>5</td>\n",
       "      <td>5</td>\n",
       "      <td>0.272</td>\n",
       "      <td>0.346</td>\n",
       "      <td>0.394</td>\n",
       "      <td>0.740</td>\n",
       "    </tr>\n",
       "    <tr>\n",
       "      <th>2</th>\n",
       "      <td>109</td>\n",
       "      <td>vs LHH</td>\n",
       "      <td>PitcherTeamId</td>\n",
       "      <td>298</td>\n",
       "      <td>262</td>\n",
       "      <td>60</td>\n",
       "      <td>95</td>\n",
       "      <td>33</td>\n",
       "      <td>1</td>\n",
       "      <td>1</td>\n",
       "      <td>0.229</td>\n",
       "      <td>0.316</td>\n",
       "      <td>0.363</td>\n",
       "      <td>0.679</td>\n",
       "    </tr>\n",
       "    <tr>\n",
       "      <th>3</th>\n",
       "      <td>109</td>\n",
       "      <td>vs RHH</td>\n",
       "      <td>PitcherTeamId</td>\n",
       "      <td>325</td>\n",
       "      <td>290</td>\n",
       "      <td>65</td>\n",
       "      <td>115</td>\n",
       "      <td>25</td>\n",
       "      <td>4</td>\n",
       "      <td>4</td>\n",
       "      <td>0.224</td>\n",
       "      <td>0.291</td>\n",
       "      <td>0.397</td>\n",
       "      <td>0.688</td>\n",
       "    </tr>\n",
       "    <tr>\n",
       "      <th>4</th>\n",
       "      <td>110</td>\n",
       "      <td>vs LHH</td>\n",
       "      <td>PitcherTeamId</td>\n",
       "      <td>228</td>\n",
       "      <td>202</td>\n",
       "      <td>45</td>\n",
       "      <td>75</td>\n",
       "      <td>19</td>\n",
       "      <td>1</td>\n",
       "      <td>3</td>\n",
       "      <td>0.223</td>\n",
       "      <td>0.298</td>\n",
       "      <td>0.371</td>\n",
       "      <td>0.669</td>\n",
       "    </tr>\n",
       "  </tbody>\n",
       "</table>\n",
       "</div>"
      ],
      "text/plain": [
       "   SubjectId   Split        Subject   PA   AB    H   TB  BB  SF  HBP    AVG  \\\n",
       "0        108  vs LHH  PitcherTeamId  175  161   36   58  12   1    1  0.224   \n",
       "1        108  vs RHH  PitcherTeamId  445  393  107  155  42   5    5  0.272   \n",
       "2        109  vs LHH  PitcherTeamId  298  262   60   95  33   1    1  0.229   \n",
       "3        109  vs RHH  PitcherTeamId  325  290   65  115  25   4    4  0.224   \n",
       "4        110  vs LHH  PitcherTeamId  228  202   45   75  19   1    3  0.223   \n",
       "\n",
       "     OBP    SLG    OPS  \n",
       "0  0.280  0.360  0.640  \n",
       "1  0.346  0.394  0.740  \n",
       "2  0.316  0.363  0.679  \n",
       "3  0.291  0.397  0.688  \n",
       "4  0.298  0.371  0.669  "
      ]
     },
     "execution_count": 27,
     "metadata": {},
     "output_type": "execute_result"
    }
   ],
   "source": [
    "data_final.head()"
   ]
  },
  {
   "cell_type": "code",
   "execution_count": 26,
   "metadata": {},
   "outputs": [
    {
     "name": "stderr",
     "output_type": "stream",
     "text": [
      "D:\\Anaconda\\envs\\py36\\lib\\site-packages\\ipykernel_launcher.py:2: SettingWithCopyWarning: \n",
      "A value is trying to be set on a copy of a slice from a DataFrame.\n",
      "Try using .loc[row_indexer,col_indexer] = value instead\n",
      "\n",
      "See the caveats in the documentation: http://pandas.pydata.org/pandas-docs/stable/indexing.html#indexing-view-versus-copy\n",
      "  \n",
      "D:\\Anaconda\\envs\\py36\\lib\\site-packages\\ipykernel_launcher.py:3: SettingWithCopyWarning: \n",
      "A value is trying to be set on a copy of a slice from a DataFrame.\n",
      "Try using .loc[row_indexer,col_indexer] = value instead\n",
      "\n",
      "See the caveats in the documentation: http://pandas.pydata.org/pandas-docs/stable/indexing.html#indexing-view-versus-copy\n",
      "  This is separate from the ipykernel package so we can avoid doing imports until\n",
      "D:\\Anaconda\\envs\\py36\\lib\\site-packages\\ipykernel_launcher.py:4: SettingWithCopyWarning: \n",
      "A value is trying to be set on a copy of a slice from a DataFrame.\n",
      "Try using .loc[row_indexer,col_indexer] = value instead\n",
      "\n",
      "See the caveats in the documentation: http://pandas.pydata.org/pandas-docs/stable/indexing.html#indexing-view-versus-copy\n",
      "  after removing the cwd from sys.path.\n",
      "D:\\Anaconda\\envs\\py36\\lib\\site-packages\\ipykernel_launcher.py:5: SettingWithCopyWarning: \n",
      "A value is trying to be set on a copy of a slice from a DataFrame.\n",
      "Try using .loc[row_indexer,col_indexer] = value instead\n",
      "\n",
      "See the caveats in the documentation: http://pandas.pydata.org/pandas-docs/stable/indexing.html#indexing-view-versus-copy\n",
      "  \"\"\"\n"
     ]
    }
   ],
   "source": [
    "# Calculating Stats\n",
    "data_final['AVG'] = (data_final.H/ data_final.AB).round(3)\n",
    "data_final['OBP'] = ((data_final.H + data_final.BB + data_final.HBP) / (data_final.AB + data_final.BB + data_final.HBP + data_final.SF)).round(3)\n",
    "data_final['SLG'] = (data_final.TB / data_final.AB).round(3)\n",
    "data_final['OPS'] = data_final.SLG + data_final.OBP"
   ]
  },
  {
   "cell_type": "code",
   "execution_count": 28,
   "metadata": {
    "collapsed": true
   },
   "outputs": [],
   "source": [
    "# Getting the desired shape\n",
    "data_final = pd.melt(data_final, id_vars = ['SubjectId','Split','Subject'], value_vars = ['AVG','OBP','SLG','OPS'], var_name = 'Stat',value_name = 'Value')"
   ]
  },
  {
   "cell_type": "code",
   "execution_count": 31,
   "metadata": {},
   "outputs": [],
   "source": [
    "# Exporting\n",
    "data_final.sort_values(by = ['SubjectId','Stat','Split','Subject'])[['SubjectId','Stat','Split','Subject','Value']].to_csv('./data/processed/output.csv',index = False)"
   ]
  }
 ],
 "metadata": {
  "kernelspec": {
   "display_name": "Python 3",
   "language": "python",
   "name": "python3"
  },
  "language_info": {
   "codemirror_mode": {
    "name": "ipython",
    "version": 3
   },
   "file_extension": ".py",
   "mimetype": "text/x-python",
   "name": "python",
   "nbconvert_exporter": "python",
   "pygments_lexer": "ipython3",
   "version": "3.6.3"
  }
 },
 "nbformat": 4,
 "nbformat_minor": 2
}
