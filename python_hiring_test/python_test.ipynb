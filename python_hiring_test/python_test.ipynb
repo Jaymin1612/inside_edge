{
 "cells": [
  {
   "cell_type": "code",
   "execution_count": 1,
   "metadata": {
    "collapsed": true
   },
   "outputs": [],
   "source": [
    "import pandas as pd"
   ]
  },
  {
   "cell_type": "code",
   "execution_count": 260,
   "metadata": {
    "collapsed": true
   },
   "outputs": [],
   "source": [
    "df = pd.read_csv(\"data/raw/pitchdata.csv\", sep=',')"
   ]
  },
  {
   "cell_type": "code",
   "execution_count": 261,
   "metadata": {},
   "outputs": [
    {
     "data": {
      "text/html": [
       "<div>\n",
       "<style>\n",
       "    .dataframe thead tr:only-child th {\n",
       "        text-align: right;\n",
       "    }\n",
       "\n",
       "    .dataframe thead th {\n",
       "        text-align: left;\n",
       "    }\n",
       "\n",
       "    .dataframe tbody tr th {\n",
       "        vertical-align: top;\n",
       "    }\n",
       "</style>\n",
       "<table border=\"1\" class=\"dataframe\">\n",
       "  <thead>\n",
       "    <tr style=\"text-align: right;\">\n",
       "      <th></th>\n",
       "      <th>GameId</th>\n",
       "      <th>PitcherId</th>\n",
       "      <th>HitterId</th>\n",
       "      <th>PitcherSide</th>\n",
       "      <th>HitterSide</th>\n",
       "      <th>PrimaryEvent</th>\n",
       "      <th>PitcherTeamId</th>\n",
       "      <th>HitterTeamId</th>\n",
       "      <th>PA</th>\n",
       "      <th>AB</th>\n",
       "      <th>H</th>\n",
       "      <th>2B</th>\n",
       "      <th>3B</th>\n",
       "      <th>HR</th>\n",
       "      <th>TB</th>\n",
       "      <th>BB</th>\n",
       "      <th>SF</th>\n",
       "      <th>HBP</th>\n",
       "    </tr>\n",
       "  </thead>\n",
       "  <tbody>\n",
       "    <tr>\n",
       "      <th>0</th>\n",
       "      <td>2016/09/15/clemlb-chamlb-1</td>\n",
       "      <td>448306</td>\n",
       "      <td>424825</td>\n",
       "      <td>R</td>\n",
       "      <td>L</td>\n",
       "      <td>GO</td>\n",
       "      <td>145</td>\n",
       "      <td>114</td>\n",
       "      <td>1</td>\n",
       "      <td>1</td>\n",
       "      <td>0</td>\n",
       "      <td>0</td>\n",
       "      <td>0</td>\n",
       "      <td>0</td>\n",
       "      <td>0</td>\n",
       "      <td>0</td>\n",
       "      <td>0</td>\n",
       "      <td>0</td>\n",
       "    </tr>\n",
       "    <tr>\n",
       "      <th>1</th>\n",
       "      <td>2016/09/15/clemlb-chamlb-1</td>\n",
       "      <td>448306</td>\n",
       "      <td>543401</td>\n",
       "      <td>R</td>\n",
       "      <td>L</td>\n",
       "      <td>BHA</td>\n",
       "      <td>145</td>\n",
       "      <td>114</td>\n",
       "      <td>0</td>\n",
       "      <td>0</td>\n",
       "      <td>0</td>\n",
       "      <td>0</td>\n",
       "      <td>0</td>\n",
       "      <td>0</td>\n",
       "      <td>0</td>\n",
       "      <td>0</td>\n",
       "      <td>0</td>\n",
       "      <td>0</td>\n",
       "    </tr>\n",
       "    <tr>\n",
       "      <th>2</th>\n",
       "      <td>2016/09/15/clemlb-chamlb-1</td>\n",
       "      <td>448306</td>\n",
       "      <td>543401</td>\n",
       "      <td>R</td>\n",
       "      <td>L</td>\n",
       "      <td>GO</td>\n",
       "      <td>145</td>\n",
       "      <td>114</td>\n",
       "      <td>1</td>\n",
       "      <td>1</td>\n",
       "      <td>0</td>\n",
       "      <td>0</td>\n",
       "      <td>0</td>\n",
       "      <td>0</td>\n",
       "      <td>0</td>\n",
       "      <td>0</td>\n",
       "      <td>0</td>\n",
       "      <td>0</td>\n",
       "    </tr>\n",
       "    <tr>\n",
       "      <th>3</th>\n",
       "      <td>2016/09/15/clemlb-chamlb-1</td>\n",
       "      <td>448306</td>\n",
       "      <td>608070</td>\n",
       "      <td>R</td>\n",
       "      <td>L</td>\n",
       "      <td>FO</td>\n",
       "      <td>145</td>\n",
       "      <td>114</td>\n",
       "      <td>1</td>\n",
       "      <td>1</td>\n",
       "      <td>0</td>\n",
       "      <td>0</td>\n",
       "      <td>0</td>\n",
       "      <td>0</td>\n",
       "      <td>0</td>\n",
       "      <td>0</td>\n",
       "      <td>0</td>\n",
       "      <td>0</td>\n",
       "    </tr>\n",
       "    <tr>\n",
       "      <th>4</th>\n",
       "      <td>2016/09/15/clemlb-chamlb-1</td>\n",
       "      <td>605182</td>\n",
       "      <td>594809</td>\n",
       "      <td>R</td>\n",
       "      <td>L</td>\n",
       "      <td>KS</td>\n",
       "      <td>114</td>\n",
       "      <td>145</td>\n",
       "      <td>1</td>\n",
       "      <td>1</td>\n",
       "      <td>0</td>\n",
       "      <td>0</td>\n",
       "      <td>0</td>\n",
       "      <td>0</td>\n",
       "      <td>0</td>\n",
       "      <td>0</td>\n",
       "      <td>0</td>\n",
       "      <td>0</td>\n",
       "    </tr>\n",
       "  </tbody>\n",
       "</table>\n",
       "</div>"
      ],
      "text/plain": [
       "                       GameId  PitcherId  HitterId PitcherSide HitterSide  \\\n",
       "0  2016/09/15/clemlb-chamlb-1     448306    424825           R          L   \n",
       "1  2016/09/15/clemlb-chamlb-1     448306    543401           R          L   \n",
       "2  2016/09/15/clemlb-chamlb-1     448306    543401           R          L   \n",
       "3  2016/09/15/clemlb-chamlb-1     448306    608070           R          L   \n",
       "4  2016/09/15/clemlb-chamlb-1     605182    594809           R          L   \n",
       "\n",
       "  PrimaryEvent  PitcherTeamId  HitterTeamId  PA  AB  H  2B  3B  HR  TB  BB  \\\n",
       "0           GO            145           114   1   1  0   0   0   0   0   0   \n",
       "1          BHA            145           114   0   0  0   0   0   0   0   0   \n",
       "2           GO            145           114   1   1  0   0   0   0   0   0   \n",
       "3           FO            145           114   1   1  0   0   0   0   0   0   \n",
       "4           KS            114           145   1   1  0   0   0   0   0   0   \n",
       "\n",
       "   SF  HBP  \n",
       "0   0    0  \n",
       "1   0    0  \n",
       "2   0    0  \n",
       "3   0    0  \n",
       "4   0    0  "
      ]
     },
     "execution_count": 261,
     "metadata": {},
     "output_type": "execute_result"
    }
   ],
   "source": [
    "df.head()"
   ]
  },
  {
   "cell_type": "code",
   "execution_count": 262,
   "metadata": {},
   "outputs": [],
   "source": [
    "df['AVG'] =  df['H']/df['AB']"
   ]
  },
  {
   "cell_type": "code",
   "execution_count": 263,
   "metadata": {
    "collapsed": true
   },
   "outputs": [],
   "source": [
    "df['SLG'] = (df['H'] + 2*df['2B'] + 3*df['3B'] + 4*df['HR'])/df['AB']"
   ]
  },
  {
   "cell_type": "code",
   "execution_count": 264,
   "metadata": {
    "collapsed": true
   },
   "outputs": [],
   "source": [
    "df['OBP'] = (df['H']+df['BB']+df['HBP']) / (df['AB']+df['BB']+df['SF']+df['HBP'])"
   ]
  },
  {
   "cell_type": "code",
   "execution_count": 265,
   "metadata": {
    "collapsed": true
   },
   "outputs": [],
   "source": [
    "df['OPS'] = df['OBP']+df['SLG']"
   ]
  },
  {
   "cell_type": "code",
   "execution_count": 266,
   "metadata": {},
   "outputs": [],
   "source": [
    "df = df.fillna(0)"
   ]
  },
  {
   "cell_type": "code",
   "execution_count": 267,
   "metadata": {
    "scrolled": true
   },
   "outputs": [
    {
     "data": {
      "text/html": [
       "<div>\n",
       "<style>\n",
       "    .dataframe thead tr:only-child th {\n",
       "        text-align: right;\n",
       "    }\n",
       "\n",
       "    .dataframe thead th {\n",
       "        text-align: left;\n",
       "    }\n",
       "\n",
       "    .dataframe tbody tr th {\n",
       "        vertical-align: top;\n",
       "    }\n",
       "</style>\n",
       "<table border=\"1\" class=\"dataframe\">\n",
       "  <thead>\n",
       "    <tr style=\"text-align: right;\">\n",
       "      <th></th>\n",
       "      <th>GameId</th>\n",
       "      <th>PitcherId</th>\n",
       "      <th>HitterId</th>\n",
       "      <th>PitcherSide</th>\n",
       "      <th>HitterSide</th>\n",
       "      <th>PrimaryEvent</th>\n",
       "      <th>PitcherTeamId</th>\n",
       "      <th>HitterTeamId</th>\n",
       "      <th>PA</th>\n",
       "      <th>AB</th>\n",
       "      <th>...</th>\n",
       "      <th>3B</th>\n",
       "      <th>HR</th>\n",
       "      <th>TB</th>\n",
       "      <th>BB</th>\n",
       "      <th>SF</th>\n",
       "      <th>HBP</th>\n",
       "      <th>AVG</th>\n",
       "      <th>SLG</th>\n",
       "      <th>OBP</th>\n",
       "      <th>OPS</th>\n",
       "    </tr>\n",
       "  </thead>\n",
       "  <tbody>\n",
       "    <tr>\n",
       "      <th>0</th>\n",
       "      <td>2016/09/15/clemlb-chamlb-1</td>\n",
       "      <td>448306</td>\n",
       "      <td>424825</td>\n",
       "      <td>R</td>\n",
       "      <td>L</td>\n",
       "      <td>GO</td>\n",
       "      <td>145</td>\n",
       "      <td>114</td>\n",
       "      <td>1</td>\n",
       "      <td>1</td>\n",
       "      <td>...</td>\n",
       "      <td>0</td>\n",
       "      <td>0</td>\n",
       "      <td>0</td>\n",
       "      <td>0</td>\n",
       "      <td>0</td>\n",
       "      <td>0</td>\n",
       "      <td>0.0</td>\n",
       "      <td>0.0</td>\n",
       "      <td>0.0</td>\n",
       "      <td>0.0</td>\n",
       "    </tr>\n",
       "    <tr>\n",
       "      <th>1</th>\n",
       "      <td>2016/09/15/clemlb-chamlb-1</td>\n",
       "      <td>448306</td>\n",
       "      <td>543401</td>\n",
       "      <td>R</td>\n",
       "      <td>L</td>\n",
       "      <td>BHA</td>\n",
       "      <td>145</td>\n",
       "      <td>114</td>\n",
       "      <td>0</td>\n",
       "      <td>0</td>\n",
       "      <td>...</td>\n",
       "      <td>0</td>\n",
       "      <td>0</td>\n",
       "      <td>0</td>\n",
       "      <td>0</td>\n",
       "      <td>0</td>\n",
       "      <td>0</td>\n",
       "      <td>0.0</td>\n",
       "      <td>0.0</td>\n",
       "      <td>0.0</td>\n",
       "      <td>0.0</td>\n",
       "    </tr>\n",
       "    <tr>\n",
       "      <th>2</th>\n",
       "      <td>2016/09/15/clemlb-chamlb-1</td>\n",
       "      <td>448306</td>\n",
       "      <td>543401</td>\n",
       "      <td>R</td>\n",
       "      <td>L</td>\n",
       "      <td>GO</td>\n",
       "      <td>145</td>\n",
       "      <td>114</td>\n",
       "      <td>1</td>\n",
       "      <td>1</td>\n",
       "      <td>...</td>\n",
       "      <td>0</td>\n",
       "      <td>0</td>\n",
       "      <td>0</td>\n",
       "      <td>0</td>\n",
       "      <td>0</td>\n",
       "      <td>0</td>\n",
       "      <td>0.0</td>\n",
       "      <td>0.0</td>\n",
       "      <td>0.0</td>\n",
       "      <td>0.0</td>\n",
       "    </tr>\n",
       "    <tr>\n",
       "      <th>3</th>\n",
       "      <td>2016/09/15/clemlb-chamlb-1</td>\n",
       "      <td>448306</td>\n",
       "      <td>608070</td>\n",
       "      <td>R</td>\n",
       "      <td>L</td>\n",
       "      <td>FO</td>\n",
       "      <td>145</td>\n",
       "      <td>114</td>\n",
       "      <td>1</td>\n",
       "      <td>1</td>\n",
       "      <td>...</td>\n",
       "      <td>0</td>\n",
       "      <td>0</td>\n",
       "      <td>0</td>\n",
       "      <td>0</td>\n",
       "      <td>0</td>\n",
       "      <td>0</td>\n",
       "      <td>0.0</td>\n",
       "      <td>0.0</td>\n",
       "      <td>0.0</td>\n",
       "      <td>0.0</td>\n",
       "    </tr>\n",
       "    <tr>\n",
       "      <th>4</th>\n",
       "      <td>2016/09/15/clemlb-chamlb-1</td>\n",
       "      <td>605182</td>\n",
       "      <td>594809</td>\n",
       "      <td>R</td>\n",
       "      <td>L</td>\n",
       "      <td>KS</td>\n",
       "      <td>114</td>\n",
       "      <td>145</td>\n",
       "      <td>1</td>\n",
       "      <td>1</td>\n",
       "      <td>...</td>\n",
       "      <td>0</td>\n",
       "      <td>0</td>\n",
       "      <td>0</td>\n",
       "      <td>0</td>\n",
       "      <td>0</td>\n",
       "      <td>0</td>\n",
       "      <td>0.0</td>\n",
       "      <td>0.0</td>\n",
       "      <td>0.0</td>\n",
       "      <td>0.0</td>\n",
       "    </tr>\n",
       "  </tbody>\n",
       "</table>\n",
       "<p>5 rows × 22 columns</p>\n",
       "</div>"
      ],
      "text/plain": [
       "                       GameId  PitcherId  HitterId PitcherSide HitterSide  \\\n",
       "0  2016/09/15/clemlb-chamlb-1     448306    424825           R          L   \n",
       "1  2016/09/15/clemlb-chamlb-1     448306    543401           R          L   \n",
       "2  2016/09/15/clemlb-chamlb-1     448306    543401           R          L   \n",
       "3  2016/09/15/clemlb-chamlb-1     448306    608070           R          L   \n",
       "4  2016/09/15/clemlb-chamlb-1     605182    594809           R          L   \n",
       "\n",
       "  PrimaryEvent  PitcherTeamId  HitterTeamId  PA  AB ...   3B  HR  TB  BB  SF  \\\n",
       "0           GO            145           114   1   1 ...    0   0   0   0   0   \n",
       "1          BHA            145           114   0   0 ...    0   0   0   0   0   \n",
       "2           GO            145           114   1   1 ...    0   0   0   0   0   \n",
       "3           FO            145           114   1   1 ...    0   0   0   0   0   \n",
       "4           KS            114           145   1   1 ...    0   0   0   0   0   \n",
       "\n",
       "   HBP  AVG  SLG  OBP  OPS  \n",
       "0    0  0.0  0.0  0.0  0.0  \n",
       "1    0  0.0  0.0  0.0  0.0  \n",
       "2    0  0.0  0.0  0.0  0.0  \n",
       "3    0  0.0  0.0  0.0  0.0  \n",
       "4    0  0.0  0.0  0.0  0.0  \n",
       "\n",
       "[5 rows x 22 columns]"
      ]
     },
     "execution_count": 267,
     "metadata": {},
     "output_type": "execute_result"
    }
   ],
   "source": [
    "df.head()"
   ]
  },
  {
   "cell_type": "code",
   "execution_count": 268,
   "metadata": {
    "collapsed": true
   },
   "outputs": [],
   "source": [
    "def fPitcher(row):\n",
    "    if row['HitterSide']=='L':\n",
    "        val = 'vs LHH'\n",
    "    elif row['HitterSide']=='R':\n",
    "        val = 'vs RHH'   \n",
    "    return val"
   ]
  },
  {
   "cell_type": "code",
   "execution_count": 269,
   "metadata": {
    "collapsed": true
   },
   "outputs": [],
   "source": [
    "def fHitter(row):\n",
    "    if row['PitcherSide']=='L':\n",
    "        val = 'vs LHP'\n",
    "    elif row['PitcherSide']=='R':\n",
    "        val = 'vs RHP'   \n",
    "    return val"
   ]
  },
  {
   "cell_type": "code",
   "execution_count": 270,
   "metadata": {
    "collapsed": true
   },
   "outputs": [],
   "source": [
    "def createDF(dfGiven, value1,value2,function):\n",
    "    dfTemp = dfGiven.filter([value1,value2,'PA','AVG','SLG','OBP','OPS'], axis=1)\n",
    "    dfTemp['Split'] = dfTemp.apply(function,axis=1)\n",
    "    dfTemp['SubjectId'] = dfTemp[value1]\n",
    "    dfTemp = dfTemp.filter(['SubjectId','Split','Subject','PA','AVG','SLG','OBP','OPS'],axis=1)\n",
    "    return dfTemp"
   ]
  },
  {
   "cell_type": "code",
   "execution_count": 286,
   "metadata": {
    "collapsed": true
   },
   "outputs": [],
   "source": [
    "def getCleanedDF(dfNew, stringVal):\n",
    "    dfTemp = checkPA(dfNew)\n",
    "    dfTeam = pd.merge(dfNew,dfTemp, on=\"SubjectId\", how=\"right\")\n",
    "    dfTeam = dfTeam.filter([\"SubjectId\",\"Split\",\"AVG\",\"SLG\",\"OBP\",\"OPS\"], axis=1)\n",
    "    dfTeam = dfTeam.groupby([\"SubjectId\",\"Split\"]).mean()\n",
    "    dfTeam['Subject'] = stringVal\n",
    "    dfTeam = dfTeam.reset_index()\n",
    "    dfTeam = pd.melt(dfTeam, id_vars=[\"SubjectId\", \"Split\",\"Subject\"], var_name=\"Stat\", value_name=\"Value\")\n",
    "    return dfTeam.round(3)"
   ]
  },
  {
   "cell_type": "code",
   "execution_count": 287,
   "metadata": {
    "collapsed": true
   },
   "outputs": [],
   "source": [
    "def checkPA(dfNew):\n",
    "    dfTemp = dfNew.filter(['SubjectId','PA'], axis=1)\n",
    "    dfTemp = dfTemp.groupby('SubjectId').sum()\n",
    "    dfTemp = dfTemp[dfTemp['PA'] >= 25]\n",
    "    dfTemp['SubjectId'] = dfTemp.index\n",
    "    return dfTemp"
   ]
  },
  {
   "cell_type": "code",
   "execution_count": 288,
   "metadata": {},
   "outputs": [],
   "source": [
    "df1 = createDF(df,'PitcherTeamId','HitterSide',fPitcher)\n",
    "dfPitcherTeamId = getCleanedDF(df1, 'PitcherTeamId')"
   ]
  },
  {
   "cell_type": "code",
   "execution_count": 289,
   "metadata": {},
   "outputs": [],
   "source": [
    "df2 = createDF(df,'HitterTeamId','PitcherSide',fHitter)\n",
    "dfHitterTeamId = getCleanedDF(df2,'HitterTeamId')"
   ]
  },
  {
   "cell_type": "code",
   "execution_count": 290,
   "metadata": {
    "collapsed": true
   },
   "outputs": [],
   "source": [
    "df3 = createDF(df,'PitcherId','HitterSide',fPitcher)\n",
    "dfHitterId = getCleanedDF(df3,'HitterId')"
   ]
  },
  {
   "cell_type": "code",
   "execution_count": 291,
   "metadata": {
    "collapsed": true
   },
   "outputs": [],
   "source": [
    "df4 = createDF(df,'HitterId','PitcherSide',fHitter)\n",
    "dfPitcherId = getCleanedDF(df4,'PitcherId')"
   ]
  },
  {
   "cell_type": "code",
   "execution_count": 292,
   "metadata": {},
   "outputs": [
    {
     "data": {
      "text/html": [
       "<div>\n",
       "<style>\n",
       "    .dataframe thead tr:only-child th {\n",
       "        text-align: right;\n",
       "    }\n",
       "\n",
       "    .dataframe thead th {\n",
       "        text-align: left;\n",
       "    }\n",
       "\n",
       "    .dataframe tbody tr th {\n",
       "        vertical-align: top;\n",
       "    }\n",
       "</style>\n",
       "<table border=\"1\" class=\"dataframe\">\n",
       "  <thead>\n",
       "    <tr style=\"text-align: right;\">\n",
       "      <th></th>\n",
       "      <th>SubjectId</th>\n",
       "      <th>Split</th>\n",
       "      <th>Subject</th>\n",
       "      <th>Stat</th>\n",
       "      <th>Value</th>\n",
       "    </tr>\n",
       "  </thead>\n",
       "  <tbody>\n",
       "    <tr>\n",
       "      <th>2451</th>\n",
       "      <td>643393</td>\n",
       "      <td>vs RHP</td>\n",
       "      <td>PitcherId</td>\n",
       "      <td>OPS</td>\n",
       "      <td>0.613</td>\n",
       "    </tr>\n",
       "    <tr>\n",
       "      <th>2452</th>\n",
       "      <td>643603</td>\n",
       "      <td>vs LHP</td>\n",
       "      <td>PitcherId</td>\n",
       "      <td>OPS</td>\n",
       "      <td>1.500</td>\n",
       "    </tr>\n",
       "    <tr>\n",
       "      <th>2453</th>\n",
       "      <td>643603</td>\n",
       "      <td>vs RHP</td>\n",
       "      <td>PitcherId</td>\n",
       "      <td>OPS</td>\n",
       "      <td>0.545</td>\n",
       "    </tr>\n",
       "    <tr>\n",
       "      <th>2454</th>\n",
       "      <td>649557</td>\n",
       "      <td>vs LHP</td>\n",
       "      <td>PitcherId</td>\n",
       "      <td>OPS</td>\n",
       "      <td>0.143</td>\n",
       "    </tr>\n",
       "    <tr>\n",
       "      <th>2455</th>\n",
       "      <td>649557</td>\n",
       "      <td>vs RHP</td>\n",
       "      <td>PitcherId</td>\n",
       "      <td>OPS</td>\n",
       "      <td>0.698</td>\n",
       "    </tr>\n",
       "  </tbody>\n",
       "</table>\n",
       "</div>"
      ],
      "text/plain": [
       "      SubjectId   Split    Subject Stat  Value\n",
       "2451     643393  vs RHP  PitcherId  OPS  0.613\n",
       "2452     643603  vs LHP  PitcherId  OPS  1.500\n",
       "2453     643603  vs RHP  PitcherId  OPS  0.545\n",
       "2454     649557  vs LHP  PitcherId  OPS  0.143\n",
       "2455     649557  vs RHP  PitcherId  OPS  0.698"
      ]
     },
     "execution_count": 292,
     "metadata": {},
     "output_type": "execute_result"
    }
   ],
   "source": [
    "dfPitcherId.tail()"
   ]
  },
  {
   "cell_type": "code",
   "execution_count": 278,
   "metadata": {},
   "outputs": [],
   "source": [
    "dfTempMerge = pd.concat([dfPitcherTeamId,dfHitterTeamId], ignore_index=True)"
   ]
  },
  {
   "cell_type": "code",
   "execution_count": 279,
   "metadata": {},
   "outputs": [
    {
     "data": {
      "text/plain": [
       "(480, 5)"
      ]
     },
     "execution_count": 279,
     "metadata": {},
     "output_type": "execute_result"
    }
   ],
   "source": [
    "dfTempMerge.shape"
   ]
  },
  {
   "cell_type": "code",
   "execution_count": null,
   "metadata": {
    "collapsed": true
   },
   "outputs": [],
   "source": []
  },
  {
   "cell_type": "code",
   "execution_count": 293,
   "metadata": {
    "collapsed": true
   },
   "outputs": [],
   "source": [
    "def allMerge(df1,df2,df3,df4):\n",
    "    dfConct = pd.concat([dfPitcherTeamId,dfHitterTeamId, dfPitcherId, dfHitterId], ignore_index=True)\n",
    "    return dfConct"
   ]
  },
  {
   "cell_type": "code",
   "execution_count": 294,
   "metadata": {},
   "outputs": [],
   "source": [
    "dfCombine = allMerge(dfPitcherTeamId,dfHitterTeamId, dfPitcherId, dfHitterId)"
   ]
  },
  {
   "cell_type": "code",
   "execution_count": 295,
   "metadata": {},
   "outputs": [],
   "source": [
    "dfFinal = dfCombine.filter([\"SubjectId\",\"Stat\",\"Split\",\"Subject\",\"Value\"], axis=1)"
   ]
  },
  {
   "cell_type": "code",
   "execution_count": 296,
   "metadata": {},
   "outputs": [
    {
     "data": {
      "text/html": [
       "<div>\n",
       "<style>\n",
       "    .dataframe thead tr:only-child th {\n",
       "        text-align: right;\n",
       "    }\n",
       "\n",
       "    .dataframe thead th {\n",
       "        text-align: left;\n",
       "    }\n",
       "\n",
       "    .dataframe tbody tr th {\n",
       "        vertical-align: top;\n",
       "    }\n",
       "</style>\n",
       "<table border=\"1\" class=\"dataframe\">\n",
       "  <thead>\n",
       "    <tr style=\"text-align: right;\">\n",
       "      <th></th>\n",
       "      <th>SubjectId</th>\n",
       "      <th>Stat</th>\n",
       "      <th>Split</th>\n",
       "      <th>Subject</th>\n",
       "      <th>Value</th>\n",
       "    </tr>\n",
       "  </thead>\n",
       "  <tbody>\n",
       "    <tr>\n",
       "      <th>0</th>\n",
       "      <td>108</td>\n",
       "      <td>AVG</td>\n",
       "      <td>vs LHH</td>\n",
       "      <td>PitcherTeamId</td>\n",
       "      <td>0.191</td>\n",
       "    </tr>\n",
       "    <tr>\n",
       "      <th>1</th>\n",
       "      <td>108</td>\n",
       "      <td>AVG</td>\n",
       "      <td>vs RHH</td>\n",
       "      <td>PitcherTeamId</td>\n",
       "      <td>0.221</td>\n",
       "    </tr>\n",
       "    <tr>\n",
       "      <th>2</th>\n",
       "      <td>109</td>\n",
       "      <td>AVG</td>\n",
       "      <td>vs LHH</td>\n",
       "      <td>PitcherTeamId</td>\n",
       "      <td>0.190</td>\n",
       "    </tr>\n",
       "    <tr>\n",
       "      <th>3</th>\n",
       "      <td>109</td>\n",
       "      <td>AVG</td>\n",
       "      <td>vs RHH</td>\n",
       "      <td>PitcherTeamId</td>\n",
       "      <td>0.191</td>\n",
       "    </tr>\n",
       "    <tr>\n",
       "      <th>4</th>\n",
       "      <td>110</td>\n",
       "      <td>AVG</td>\n",
       "      <td>vs LHH</td>\n",
       "      <td>PitcherTeamId</td>\n",
       "      <td>0.179</td>\n",
       "    </tr>\n",
       "  </tbody>\n",
       "</table>\n",
       "</div>"
      ],
      "text/plain": [
       "   SubjectId Stat   Split        Subject  Value\n",
       "0        108  AVG  vs LHH  PitcherTeamId  0.191\n",
       "1        108  AVG  vs RHH  PitcherTeamId  0.221\n",
       "2        109  AVG  vs LHH  PitcherTeamId  0.190\n",
       "3        109  AVG  vs RHH  PitcherTeamId  0.191\n",
       "4        110  AVG  vs LHH  PitcherTeamId  0.179"
      ]
     },
     "execution_count": 296,
     "metadata": {},
     "output_type": "execute_result"
    }
   ],
   "source": [
    "dfFinal.head()"
   ]
  },
  {
   "cell_type": "code",
   "execution_count": 297,
   "metadata": {
    "collapsed": true
   },
   "outputs": [],
   "source": [
    "dfFinal = dfFinal.sort_values([\"SubjectId\",\"Stat\",\"Split\",\"Subject\"])"
   ]
  },
  {
   "cell_type": "code",
   "execution_count": 298,
   "metadata": {},
   "outputs": [
    {
     "data": {
      "text/html": [
       "<div>\n",
       "<style>\n",
       "    .dataframe thead tr:only-child th {\n",
       "        text-align: right;\n",
       "    }\n",
       "\n",
       "    .dataframe thead th {\n",
       "        text-align: left;\n",
       "    }\n",
       "\n",
       "    .dataframe tbody tr th {\n",
       "        vertical-align: top;\n",
       "    }\n",
       "</style>\n",
       "<table border=\"1\" class=\"dataframe\">\n",
       "  <thead>\n",
       "    <tr style=\"text-align: right;\">\n",
       "      <th></th>\n",
       "      <th>SubjectId</th>\n",
       "      <th>Stat</th>\n",
       "      <th>Split</th>\n",
       "      <th>Subject</th>\n",
       "      <th>Value</th>\n",
       "    </tr>\n",
       "  </thead>\n",
       "  <tbody>\n",
       "    <tr>\n",
       "      <th>0</th>\n",
       "      <td>108</td>\n",
       "      <td>AVG</td>\n",
       "      <td>vs LHH</td>\n",
       "      <td>PitcherTeamId</td>\n",
       "      <td>0.191</td>\n",
       "    </tr>\n",
       "    <tr>\n",
       "      <th>240</th>\n",
       "      <td>108</td>\n",
       "      <td>AVG</td>\n",
       "      <td>vs LHP</td>\n",
       "      <td>HitterTeamId</td>\n",
       "      <td>0.197</td>\n",
       "    </tr>\n",
       "    <tr>\n",
       "      <th>1</th>\n",
       "      <td>108</td>\n",
       "      <td>AVG</td>\n",
       "      <td>vs RHH</td>\n",
       "      <td>PitcherTeamId</td>\n",
       "      <td>0.221</td>\n",
       "    </tr>\n",
       "    <tr>\n",
       "      <th>241</th>\n",
       "      <td>108</td>\n",
       "      <td>AVG</td>\n",
       "      <td>vs RHP</td>\n",
       "      <td>HitterTeamId</td>\n",
       "      <td>0.199</td>\n",
       "    </tr>\n",
       "    <tr>\n",
       "      <th>120</th>\n",
       "      <td>108</td>\n",
       "      <td>OBP</td>\n",
       "      <td>vs LHH</td>\n",
       "      <td>PitcherTeamId</td>\n",
       "      <td>0.261</td>\n",
       "    </tr>\n",
       "  </tbody>\n",
       "</table>\n",
       "</div>"
      ],
      "text/plain": [
       "     SubjectId Stat   Split        Subject  Value\n",
       "0          108  AVG  vs LHH  PitcherTeamId  0.191\n",
       "240        108  AVG  vs LHP   HitterTeamId  0.197\n",
       "1          108  AVG  vs RHH  PitcherTeamId  0.221\n",
       "241        108  AVG  vs RHP   HitterTeamId  0.199\n",
       "120        108  OBP  vs LHH  PitcherTeamId  0.261"
      ]
     },
     "execution_count": 298,
     "metadata": {},
     "output_type": "execute_result"
    }
   ],
   "source": [
    "dfFinal.head()"
   ]
  },
  {
   "cell_type": "code",
   "execution_count": null,
   "metadata": {
    "collapsed": true
   },
   "outputs": [],
   "source": [
    "dfFinal.to_csv(\"data/processed/output.csv\",sep=',', index=False)"
   ]
  },
  {
   "cell_type": "code",
   "execution_count": null,
   "metadata": {
    "collapsed": true
   },
   "outputs": [],
   "source": []
  }
 ],
 "metadata": {
  "kernelspec": {
   "display_name": "Python 3",
   "language": "python",
   "name": "python3"
  },
  "language_info": {
   "codemirror_mode": {
    "name": "ipython",
    "version": 3
   },
   "file_extension": ".py",
   "mimetype": "text/x-python",
   "name": "python",
   "nbconvert_exporter": "python",
   "pygments_lexer": "ipython3",
   "version": "3.6.3"
  }
 },
 "nbformat": 4,
 "nbformat_minor": 2
}
